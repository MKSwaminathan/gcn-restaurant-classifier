{
 "cells": [
  {
   "cell_type": "markdown",
   "metadata": {},
   "source": [
    "## Sentiment Analysis Template\n",
    "\n",
    "### Download nltk library\n",
    "We need to download the nltk library first. Run the cell directly below this one that contains nltk.donwload(). A new window should open, showing the NLTK Downloader. Click on the File menu and select Change Download Directory. For central installation, set this to C:\\nltk_data (Windows), /usr/local/share/nltk_data (Mac), or /usr/share/nltk_data (Unix). Next, select the packages or collections you want to download.\n",
    "\n",
    "Note: This may take a couple of minutes depending on your machine and load\n",
    "\n",
    "Download instructions taken from: https://www.nltk.org/data.html"
   ]
  },
  {
   "cell_type": "code",
   "execution_count": null,
   "metadata": {},
   "outputs": [],
   "source": [
    "# SKIP THIS IF YOU HAVE ALREADY DOWNLOADED NLTK\n",
    "import nltk\n",
    "nltk.download()"
   ]
  },
  {
   "cell_type": "code",
   "execution_count": 18,
   "metadata": {},
   "outputs": [
    {
     "data": {
      "text/plain": [
       "['The', 'Fulton', 'County', 'Grand', 'Jury', 'said', ...]"
      ]
     },
     "execution_count": 18,
     "metadata": {},
     "output_type": "execute_result"
    }
   ],
   "source": [
    "# TO TEST IF DOWNLOAD WORKS\n",
    "import nltk\n",
    "from nltk.corpus import brown\n",
    "brown.words()"
   ]
  },
  {
   "cell_type": "code",
   "execution_count": 19,
   "metadata": {},
   "outputs": [],
   "source": [
    "#\n",
    "# STD Imports\n",
    "#\n",
    "import sys, os\n",
    "import numpy as np\n",
    "import pandas as pd\n",
    "import seaborn as sns\n",
    "import matplotlib.pyplot as plt\n",
    "\n",
    "# NLP Lib\n",
    "import nltk\n",
    "from nltk.corpus import stopwords\n",
    "\n",
    "# Sklearn \n",
    "from sklearn.feature_extraction.text import CountVectorizer"
   ]
  },
  {
   "cell_type": "code",
   "execution_count": 20,
   "metadata": {},
   "outputs": [],
   "source": [
    "#\n",
    "# Load reviews from yelp\n",
    "# \n",
    "# Note: in this specific case it doesn't really matter which\n",
    "# reviews we pull since we can still learn what constitutes a \n",
    "# positive or negative review in general - i.e. English is English\n",
    "#\n",
    "# Source: https://www.kaggle.com/luisfredgs/yelp-reviews-csv\n",
    "#\n",
    "\n",
    "reviewsDF = pd.read_csv('../yelp_dataset/yelp_review.csv')"
   ]
  },
  {
   "cell_type": "code",
   "execution_count": 21,
   "metadata": {},
   "outputs": [
    {
     "data": {
      "text/plain": [
       "5261668"
      ]
     },
     "execution_count": 21,
     "metadata": {},
     "output_type": "execute_result"
    }
   ],
   "source": [
    "# This is a very large dataset so we may need to shorten it\n",
    "len(reviewsDF)"
   ]
  },
  {
   "cell_type": "code",
   "execution_count": 22,
   "metadata": {},
   "outputs": [],
   "source": [
    "# Shorten dataset - OPTIONAL - depends on how long you are willing to wait :)\n",
    "# reviewsDF = reviewsDF.sample(frac=0.4, replace=True, random_state=1)\n",
    "# len(reviewsDF)"
   ]
  },
  {
   "cell_type": "code",
   "execution_count": 23,
   "metadata": {},
   "outputs": [
    {
     "name": "stdout",
     "output_type": "stream",
     "text": [
      "              stars        useful         funny          cool\n",
      "count  5.261668e+06  5.261668e+06  5.261668e+06  5.261668e+06\n",
      "mean   3.727739e+00  1.385085e+00  5.091961e-01  5.860917e-01\n",
      "std    1.433593e+00  4.528727e+00  2.686168e+00  2.233706e+00\n",
      "min    1.000000e+00 -1.000000e+00  0.000000e+00 -1.000000e+00\n",
      "25%    3.000000e+00  0.000000e+00  0.000000e+00  0.000000e+00\n",
      "50%    4.000000e+00  0.000000e+00  0.000000e+00  0.000000e+00\n",
      "75%    5.000000e+00  2.000000e+00  0.000000e+00  1.000000e+00\n",
      "max    5.000000e+00  3.364000e+03  1.481000e+03  1.105000e+03\n"
     ]
    },
    {
     "data": {
      "text/html": [
       "<div>\n",
       "<style scoped>\n",
       "    .dataframe tbody tr th:only-of-type {\n",
       "        vertical-align: middle;\n",
       "    }\n",
       "\n",
       "    .dataframe tbody tr th {\n",
       "        vertical-align: top;\n",
       "    }\n",
       "\n",
       "    .dataframe thead th {\n",
       "        text-align: right;\n",
       "    }\n",
       "</style>\n",
       "<table border=\"1\" class=\"dataframe\">\n",
       "  <thead>\n",
       "    <tr style=\"text-align: right;\">\n",
       "      <th></th>\n",
       "      <th>review_id</th>\n",
       "      <th>user_id</th>\n",
       "      <th>business_id</th>\n",
       "      <th>stars</th>\n",
       "      <th>date</th>\n",
       "      <th>text</th>\n",
       "      <th>useful</th>\n",
       "      <th>funny</th>\n",
       "      <th>cool</th>\n",
       "    </tr>\n",
       "  </thead>\n",
       "  <tbody>\n",
       "    <tr>\n",
       "      <th>0</th>\n",
       "      <td>vkVSCC7xljjrAI4UGfnKEQ</td>\n",
       "      <td>bv2nCi5Qv5vroFiqKGopiw</td>\n",
       "      <td>AEx2SYEUJmTxVVB18LlCwA</td>\n",
       "      <td>5</td>\n",
       "      <td>2016-05-28</td>\n",
       "      <td>Super simple place but amazing nonetheless. It...</td>\n",
       "      <td>0</td>\n",
       "      <td>0</td>\n",
       "      <td>0</td>\n",
       "    </tr>\n",
       "    <tr>\n",
       "      <th>1</th>\n",
       "      <td>n6QzIUObkYshz4dz2QRJTw</td>\n",
       "      <td>bv2nCi5Qv5vroFiqKGopiw</td>\n",
       "      <td>VR6GpWIda3SfvPC-lg9H3w</td>\n",
       "      <td>5</td>\n",
       "      <td>2016-05-28</td>\n",
       "      <td>Small unassuming place that changes their menu...</td>\n",
       "      <td>0</td>\n",
       "      <td>0</td>\n",
       "      <td>0</td>\n",
       "    </tr>\n",
       "  </tbody>\n",
       "</table>\n",
       "</div>"
      ],
      "text/plain": [
       "                review_id                 user_id             business_id  \\\n",
       "0  vkVSCC7xljjrAI4UGfnKEQ  bv2nCi5Qv5vroFiqKGopiw  AEx2SYEUJmTxVVB18LlCwA   \n",
       "1  n6QzIUObkYshz4dz2QRJTw  bv2nCi5Qv5vroFiqKGopiw  VR6GpWIda3SfvPC-lg9H3w   \n",
       "\n",
       "   stars        date                                               text  \\\n",
       "0      5  2016-05-28  Super simple place but amazing nonetheless. It...   \n",
       "1      5  2016-05-28  Small unassuming place that changes their menu...   \n",
       "\n",
       "   useful  funny  cool  \n",
       "0       0      0     0  \n",
       "1       0      0     0  "
      ]
     },
     "execution_count": 23,
     "metadata": {},
     "output_type": "execute_result"
    }
   ],
   "source": [
    "# \n",
    "# Exploring contents\n",
    "#\n",
    "\n",
    "# statistical info about numerical data cols\n",
    "print(reviewsDF.describe())\n",
    "\n",
    "# sneak peek\n",
    "reviewsDF.head(2)\n"
   ]
  },
  {
   "cell_type": "code",
   "execution_count": 24,
   "metadata": {},
   "outputs": [],
   "source": [
    "#\n",
    "# Adding any additonal features\n",
    "#\n",
    "reviewsDF['char_len'] = reviewsDF['text'].apply(lambda x: len(x))\n",
    "\n",
    "# We can define a threshold for what constitutes \"positive reviews\"\n",
    "thresh = 4 \n",
    "reviewsDF['positive'] = reviewsDF['stars'].apply(\n",
    "    lambda x: 1 if x >= thresh else 0)"
   ]
  },
  {
   "cell_type": "code",
   "execution_count": 25,
   "metadata": {
    "scrolled": true
   },
   "outputs": [
    {
     "data": {
      "text/html": [
       "<div>\n",
       "<style scoped>\n",
       "    .dataframe tbody tr th:only-of-type {\n",
       "        vertical-align: middle;\n",
       "    }\n",
       "\n",
       "    .dataframe tbody tr th {\n",
       "        vertical-align: top;\n",
       "    }\n",
       "\n",
       "    .dataframe thead th {\n",
       "        text-align: right;\n",
       "    }\n",
       "</style>\n",
       "<table border=\"1\" class=\"dataframe\">\n",
       "  <thead>\n",
       "    <tr style=\"text-align: right;\">\n",
       "      <th></th>\n",
       "      <th>review_id</th>\n",
       "      <th>user_id</th>\n",
       "      <th>business_id</th>\n",
       "      <th>stars</th>\n",
       "      <th>date</th>\n",
       "      <th>text</th>\n",
       "      <th>useful</th>\n",
       "      <th>funny</th>\n",
       "      <th>cool</th>\n",
       "      <th>char_len</th>\n",
       "      <th>positive</th>\n",
       "    </tr>\n",
       "  </thead>\n",
       "  <tbody>\n",
       "    <tr>\n",
       "      <th>0</th>\n",
       "      <td>vkVSCC7xljjrAI4UGfnKEQ</td>\n",
       "      <td>bv2nCi5Qv5vroFiqKGopiw</td>\n",
       "      <td>AEx2SYEUJmTxVVB18LlCwA</td>\n",
       "      <td>5</td>\n",
       "      <td>2016-05-28</td>\n",
       "      <td>Super simple place but amazing nonetheless. It...</td>\n",
       "      <td>0</td>\n",
       "      <td>0</td>\n",
       "      <td>0</td>\n",
       "      <td>213</td>\n",
       "      <td>1</td>\n",
       "    </tr>\n",
       "    <tr>\n",
       "      <th>1</th>\n",
       "      <td>n6QzIUObkYshz4dz2QRJTw</td>\n",
       "      <td>bv2nCi5Qv5vroFiqKGopiw</td>\n",
       "      <td>VR6GpWIda3SfvPC-lg9H3w</td>\n",
       "      <td>5</td>\n",
       "      <td>2016-05-28</td>\n",
       "      <td>Small unassuming place that changes their menu...</td>\n",
       "      <td>0</td>\n",
       "      <td>0</td>\n",
       "      <td>0</td>\n",
       "      <td>502</td>\n",
       "      <td>1</td>\n",
       "    </tr>\n",
       "  </tbody>\n",
       "</table>\n",
       "</div>"
      ],
      "text/plain": [
       "                review_id                 user_id             business_id  \\\n",
       "0  vkVSCC7xljjrAI4UGfnKEQ  bv2nCi5Qv5vroFiqKGopiw  AEx2SYEUJmTxVVB18LlCwA   \n",
       "1  n6QzIUObkYshz4dz2QRJTw  bv2nCi5Qv5vroFiqKGopiw  VR6GpWIda3SfvPC-lg9H3w   \n",
       "\n",
       "   stars        date                                               text  \\\n",
       "0      5  2016-05-28  Super simple place but amazing nonetheless. It...   \n",
       "1      5  2016-05-28  Small unassuming place that changes their menu...   \n",
       "\n",
       "   useful  funny  cool  char_len  positive  \n",
       "0       0      0     0       213         1  \n",
       "1       0      0     0       502         1  "
      ]
     },
     "execution_count": 25,
     "metadata": {},
     "output_type": "execute_result"
    }
   ],
   "source": [
    "# We see that anything 4 stars and above are marked as 1 -> positive \n",
    "# and 0 -> negative\n",
    "reviewsDF.head(2)"
   ]
  },
  {
   "cell_type": "markdown",
   "metadata": {},
   "source": [
    "### Feature Visualization\n",
    "Here we will attempt to visualize any correlations that\n",
    "we see in the data with respect to the stars or positive/negative review. We can immediately notice that the stars 1-3 is the minority class and \n",
    "4-5 is the majority class. We are working with an imbalanced dataset"
   ]
  },
  {
   "cell_type": "code",
   "execution_count": 26,
   "metadata": {
    "scrolled": true
   },
   "outputs": [
    {
     "data": {
      "text/plain": [
       "<seaborn.axisgrid.FacetGrid at 0x1a1d36b1d0>"
      ]
     },
     "execution_count": 26,
     "metadata": {},
     "output_type": "execute_result"
    },
    {
     "data": {
      "image/png": "[encoded data removed]",
      "text/plain": [
       "<Figure size 432x216 with 2 Axes>"
      ]
     },
     "metadata": {
      "needs_background": "light"
     },
     "output_type": "display_data"
    }
   ],
   "source": [
    "# Length of review wrt. pos/neg\n",
    "vis2 = sns.FacetGrid(data=reviewsDF, col='positive')\n",
    "vis2.map(plt.hist, 'char_len', bins=50)"
   ]
  },
  {
   "cell_type": "code",
   "execution_count": 27,
   "metadata": {
    "scrolled": true
   },
   "outputs": [
    {
     "data": {
      "text/plain": [
       "<matplotlib.axes._subplots.AxesSubplot at 0x1a1ea3a518>"
      ]
     },
     "execution_count": 27,
     "metadata": {},
     "output_type": "execute_result"
    },
    {
     "data": {
      "image/png": "[encoded data removed]",
      "text/plain": [
       "<Figure size 432x288 with 2 Axes>"
      ]
     },
     "metadata": {
      "needs_background": "light"
     },
     "output_type": "display_data"
    }
   ],
   "source": [
    "# Let's look at the other features\n",
    "rating = reviewsDF.groupby('stars').mean()\n",
    "sns.heatmap(data=rating.corr(), annot=True)"
   ]
  },
  {
   "cell_type": "markdown",
   "metadata": {},
   "source": [
    "### Visible correlations\n",
    "It looks like useful and character lengh are correlated as well as (useful, funny), (funny, character length), (cool, positive)."
   ]
  },
  {
   "cell_type": "markdown",
   "metadata": {},
   "source": [
    "### Make and process data"
   ]
  },
  {
   "cell_type": "code",
   "execution_count": 28,
   "metadata": {},
   "outputs": [
    {
     "name": "stdout",
     "output_type": "stream",
     "text": [
      "Majority class size:  2253347\n",
      "Minority class size:  731363\n"
     ]
    }
   ],
   "source": [
    "# Even out the majority and minority classes\n",
    "from sklearn.utils import resample\n",
    "df_majority = reviewsDF[reviewsDF.stars==5]\n",
    "df_minority = reviewsDF[reviewsDF.stars==1]\n",
    "print('Majority class size: ',len(df_majority))\n",
    "print('Minority class size: ',len(df_minority))"
   ]
  },
  {
   "cell_type": "code",
   "execution_count": 29,
   "metadata": {},
   "outputs": [
    {
     "data": {
      "text/plain": [
       "91420"
      ]
     },
     "execution_count": 29,
     "metadata": {},
     "output_type": "execute_result"
    }
   ],
   "source": [
    "df_downsampled = resample(df_majority,\n",
    "                          replace=False,\n",
    "                          n_samples=len(df_minority),\n",
    "                          random_state=123)\n",
    "\n",
    "reviewDF = pd.concat([df_downsampled[0:len(df_minority)//16], \n",
    "                      df_minority[0:len(df_minority)//16]])\n",
    "len(reviewDF)"
   ]
  },
  {
   "cell_type": "code",
   "execution_count": 30,
   "metadata": {},
   "outputs": [],
   "source": [
    "classes = reviewsDF[(reviewsDF['stars'] == 1) | (reviewsDF['stars'] == 5)]\n",
    "X,y = classes['text'], classes['stars']"
   ]
  },
  {
   "cell_type": "code",
   "execution_count": null,
   "metadata": {},
   "outputs": [],
   "source": [
    "# # # UNSAFE DO NOT RUN # # # \n",
    "# We want to use data that  #\n",
    "# has already been saved    #\n",
    "# locally to prevent having #\n",
    "# to run the program all    #\n",
    "# night.                    #\n",
    "# # # # # # # # # # # # # # #\n",
    "\n",
    "\n",
    "# Save X and y\n",
    "X.to_csv('X_raw.csv', header=False)\n",
    "y.to_csv('y.csv', header=False)"
   ]
  },
  {
   "cell_type": "code",
   "execution_count": 31,
   "metadata": {
    "scrolled": true
   },
   "outputs": [
    {
     "name": "stderr",
     "output_type": "stream",
     "text": [
      "/usr/local/anaconda3/lib/python3.7/site-packages/IPython/core/interactiveshell.py:3057: DtypeWarning: Columns (0) have mixed types. Specify dtype option on import or set low_memory=False.\n",
      "  interactivity=interactivity, compiler=compiler, result=result)\n",
      "/usr/local/anaconda3/lib/python3.7/site-packages/numpy/lib/arraysetops.py:569: FutureWarning: elementwise comparison failed; returning scalar instead, but in the future will perform elementwise comparison\n",
      "  mask |= (ar1 == a)\n"
     ]
    }
   ],
   "source": [
    "# Load X and Y \n",
    "X = pd.read_csv('X_raw.csv', header=None, index_col=0, squeeze=True)\n",
    "y = pd.read_csv('y.csv', header=None, index_col=0, squeeze=True)"
   ]
  },
  {
   "cell_type": "code",
   "execution_count": 32,
   "metadata": {},
   "outputs": [],
   "source": [
    "# \n",
    "# Clean up text and use bag of words format\n",
    "#\n",
    "import string\n",
    "\n",
    "def clean_text(text):\n",
    "    nopunc = [char for char in text if char not in string.punctuation]\n",
    "    nopunc = ''.join(nopunc)\n",
    "    cleaned_text = [word for word in nopunc.split() \n",
    "                    if word.lower() not in stopwords.words('english')]\n",
    "    return cleaned_text"
   ]
  },
  {
   "cell_type": "code",
   "execution_count": 170,
   "metadata": {},
   "outputs": [],
   "source": [
    "# # # UNSAFE DO NOT RUN # # # \n",
    "# We want to use data that  #\n",
    "# has already been saved    #\n",
    "# locally to prevent having #\n",
    "# to run the program all    #\n",
    "# night.                    #\n",
    "# # # # # # # # # # # # # # #\n",
    "\n",
    "#\n",
    "# WARNING: DO NOT RUN IF YOU CAN LOAD BOW_TRANSFORMER FROM FILE\n",
    "# This will take a very long time - better to load locally if not retraining\n",
    "#\n",
    "# Vectorize the lemmas returned by the text cleaning\n",
    "#\n",
    "# CountVectorizer source: \n",
    "# https://scikit-learn.org/stable/modules/generated/sklearn.feature_extraction.text.CountVectorizer.html\n",
    "#\n",
    "\n",
    "bow_transformer = CountVectorizer(analyzer=clean_text).fit(X)\n"
   ]
  },
  {
   "cell_type": "code",
   "execution_count": 171,
   "metadata": {},
   "outputs": [],
   "source": [
    "# # # UNSAFE DO NOT RUN # # # \n",
    "# We want to use data that  #\n",
    "# has already been saved    #\n",
    "# locally to prevent having #\n",
    "# to run the program all    #\n",
    "# night.                    #\n",
    "# # # # # # # # # # # # # # #\n",
    "\n",
    "#\n",
    "# WARNING: DO NOT RUN IF YOU CAN LOAD BOW_TRANSFORMER FROM FILE\n",
    "# This will take a very long time - better to load locally if not retraining\n",
    "#\n",
    "# Save the fit beause it takes forever\n",
    "#\n",
    "\n",
    "import pickle\n",
    "\n",
    "filename = 'bow_transformer.sav'\n",
    "pickle.dump(bow_transformer, open(filename, 'wb'))"
   ]
  },
  {
   "cell_type": "code",
   "execution_count": 33,
   "metadata": {},
   "outputs": [],
   "source": [
    "# load the model from disk\n",
    "import pickle\n",
    "\n",
    "bow_transformer = pickle.load(open('bow_transformer.sav', 'rb'))"
   ]
  },
  {
   "cell_type": "code",
   "execution_count": 34,
   "metadata": {
    "scrolled": true
   },
   "outputs": [
    {
     "name": "stdout",
     "output_type": "stream",
     "text": [
      "Length of vocabulary:  619992\n"
     ]
    }
   ],
   "source": [
    "# About our vocabulary\n",
    "print('Length of vocabulary: ',len(bow_transformer.vocabulary_))"
   ]
  },
  {
   "cell_type": "markdown",
   "metadata": {},
   "source": [
    "### BOW attributes\n",
    "To get the vector of a specific review:\n",
    "bow_transformer.transform($review$)\n",
    "\n",
    "To get the exact word:\n",
    "bow_transformer.get_feature_names()[$index of word$]"
   ]
  },
  {
   "cell_type": "code",
   "execution_count": 35,
   "metadata": {
    "scrolled": true
   },
   "outputs": [
    {
     "name": "stdout",
     "output_type": "stream",
     "text": [
      "  (0, 13688)\t1\n",
      "  (0, 211811)\t1\n",
      "  (0, 215417)\t1\n",
      "  (0, 256802)\t1\n",
      "  (0, 263727)\t1\n",
      "  (0, 284193)\t1\n",
      "  (0, 373746)\t1\n",
      "  (0, 395745)\t1\n",
      "  (0, 457041)\t1\n",
      "  (0, 463960)\t1\n",
      "  (0, 490562)\t1\n",
      "  (0, 525008)\t1\n",
      "  (0, 526484)\t1\n",
      "  (0, 534713)\t1\n",
      "  (0, 541455)\t1\n",
      "  (0, 541621)\t1\n",
      "  (0, 554325)\t1\n",
      "  (0, 555960)\t1\n",
      "  (0, 572790)\t1\n"
     ]
    }
   ],
   "source": [
    "# EX:\n",
    "print(bow_transformer.transform([X[0]]))"
   ]
  },
  {
   "cell_type": "code",
   "execution_count": null,
   "metadata": {},
   "outputs": [],
   "source": [
    "# # # UNSAFE DO NOT RUN # # # \n",
    "# We want to use data that  #\n",
    "# has already been saved    #\n",
    "# locally to prevent having #\n",
    "# to run the program all    #\n",
    "# night.                    #\n",
    "# # # # # # # # # # # # # # #\n",
    "\n",
    "#\n",
    "# WARNING: DO NOT RUN IF YOU CAN LOAD X_DATA FROM FILE\n",
    "# This will take a very long time - better to load locally if not retraining\n",
    "#\n",
    "# Create sparse matrix - This will take a very long time - better to load locally if not retraining\n",
    "#\n",
    "X_data = bow_transformer.transform(X)"
   ]
  },
  {
   "cell_type": "code",
   "execution_count": 185,
   "metadata": {},
   "outputs": [],
   "source": [
    "# # # UNSAFE DO NOT RUN # # # \n",
    "# We want to use data that  #\n",
    "# has already been saved    #\n",
    "# locally to prevent having #\n",
    "# to run the program all    #\n",
    "# night.                    #\n",
    "# # # # # # # # # # # # # # #\n",
    "\n",
    "#\n",
    "# WARNING: DO NOT RUN IF YOU CAN LOAD X_DATA FROM FILE\n",
    "# This will take a very long time - better to load locally if not retraining\n",
    "#\n",
    "# Saving X_data since it is very large\n",
    "\n",
    "from scipy import sparse\n",
    "sparse.save_npz('X_data.npz', X_data)"
   ]
  },
  {
   "cell_type": "code",
   "execution_count": 36,
   "metadata": {
    "scrolled": true
   },
   "outputs": [],
   "source": [
    "# Load X_data\n",
    "\n",
    "from scipy import sparse\n",
    "X_data = sparse.load_npz('X_data.npz')"
   ]
  },
  {
   "cell_type": "code",
   "execution_count": 37,
   "metadata": {},
   "outputs": [
    {
     "name": "stdout",
     "output_type": "stream",
     "text": [
      "Shape of Sparse Matrix:  (1193742, 619992)\n",
      "Amount of Non-Zero occurrences:  54683338\n",
      "Density: 0.007388537081168966\n"
     ]
    }
   ],
   "source": [
    "# Stats\n",
    "print('Shape of Sparse Matrix: ', X_data.shape)\n",
    "print('Amount of Non-Zero occurrences: ', X_data.nnz)\n",
    "# Percentage of non-zero values\n",
    "density = (100.0 * X_data.nnz / (X_data.shape[0] * X_data.shape[1]))\n",
    "print('Density: {}'.format((density)))"
   ]
  },
  {
   "cell_type": "markdown",
   "metadata": {},
   "source": [
    "### Training the model"
   ]
  },
  {
   "cell_type": "code",
   "execution_count": 38,
   "metadata": {},
   "outputs": [],
   "source": [
    "# Imports for model\n",
    "from sklearn.model_selection import train_test_split\n",
    "from sklearn.naive_bayes import MultinomialNB\n",
    "\n",
    "# Model Evaluation\n",
    "from sklearn.metrics import confusion_matrix, classification_report\n"
   ]
  },
  {
   "cell_type": "code",
   "execution_count": 39,
   "metadata": {},
   "outputs": [
    {
     "data": {
      "text/plain": [
       "MultinomialNB(alpha=1.0, class_prior=None, fit_prior=True)"
      ]
     },
     "execution_count": 39,
     "metadata": {},
     "output_type": "execute_result"
    }
   ],
   "source": [
    "#\n",
    "# Split data and define model\n",
    "#\n",
    "test_size = 0.3\n",
    "X_train, X_test, y_train, y_test = train_test_split(X_data, \n",
    "                                                    y, \n",
    "                                                    test_size=test_size,\n",
    "                                                    random_state=101)\n",
    "\n",
    "# Using Multinomial Naive Bayes\n",
    "nb = MultinomialNB()\n",
    "nb.fit(X_train, y_train)"
   ]
  },
  {
   "cell_type": "code",
   "execution_count": 200,
   "metadata": {},
   "outputs": [],
   "source": [
    "#\n",
    "# WARNING: ONLY RUN THIS IF YOU WANT TO SAVE \n",
    "# A NEW MODEL YOU HAVE CREATED.\n",
    "#\n",
    "\n",
    "filename = 'YourNewModel.sav'\n",
    "pickle.dump(nb, open(filename, 'wb'))"
   ]
  },
  {
   "cell_type": "code",
   "execution_count": 40,
   "metadata": {},
   "outputs": [],
   "source": [
    "# OPTIONAL - Load already saved model\n",
    "nb = pickle.load(open('NBModel.sav', 'rb'))"
   ]
  },
  {
   "cell_type": "code",
   "execution_count": 41,
   "metadata": {},
   "outputs": [],
   "source": [
    "preds = nb.predict(X_test)"
   ]
  },
  {
   "cell_type": "markdown",
   "metadata": {},
   "source": [
    "### Model Evaluation"
   ]
  },
  {
   "cell_type": "code",
   "execution_count": 42,
   "metadata": {},
   "outputs": [
    {
     "name": "stdout",
     "output_type": "stream",
     "text": [
      "[[ 79257   8294]\n",
      " [ 13042 257530]]\n",
      "\n",
      "\n",
      "              precision    recall  f1-score   support\n",
      "\n",
      "           1       0.86      0.91      0.88     87551\n",
      "           5       0.97      0.95      0.96    270572\n",
      "\n",
      "    accuracy                           0.94    358123\n",
      "   macro avg       0.91      0.93      0.92    358123\n",
      "weighted avg       0.94      0.94      0.94    358123\n",
      "\n"
     ]
    }
   ],
   "source": [
    "#\n",
    "# Get confusion matrix and reports\n",
    "#\n",
    "print(confusion_matrix(y_test, preds))\n",
    "print('\\n')\n",
    "print(classification_report(y_test, preds))"
   ]
  },
  {
   "cell_type": "code",
   "execution_count": 43,
   "metadata": {},
   "outputs": [],
   "source": [
    "#\n",
    "# Singular review prediction\n",
    "#\n",
    "\n",
    "def predict_review(review):\n",
    "    review_transformed = bow_transformer.transform([review])\n",
    "    pred = nb.predict(review_transformed)[0]\n",
    "    \n",
    "    return 'positive' if pred==5 else 'negative'"
   ]
  },
  {
   "cell_type": "code",
   "execution_count": 44,
   "metadata": {},
   "outputs": [
    {
     "data": {
      "text/plain": [
       "'negative'"
      ]
     },
     "execution_count": 44,
     "metadata": {},
     "output_type": "execute_result"
    }
   ],
   "source": [
    "sample_bad_review = \"This restaurant is the worst place I have ever been to. \\\n",
    "                 The food was terrible, and my son threw up after. \\\n",
    "                 Also my dog is a poop.\"\n",
    "predict_review(sample_bad_review)"
   ]
  },
  {
   "cell_type": "code",
   "execution_count": 45,
   "metadata": {},
   "outputs": [
    {
     "data": {
      "text/plain": [
       "'positive'"
      ]
     },
     "execution_count": 45,
     "metadata": {},
     "output_type": "execute_result"
    }
   ],
   "source": [
    "sample_good_review = \"This place was fantastic. I take my mom here all \\\n",
    "                      the time and she loves it! Will definitely \\\n",
    "                      recommend this to others.\"\n",
    "predict_review(sample_good_review)"
   ]
  }
 ],
 "metadata": {
  "kernelspec": {
   "display_name": "Python 3",
   "language": "python",
   "name": "python3"
  },
  "language_info": {
   "codemirror_mode": {
    "name": "ipython",
    "version": 3
   },
   "file_extension": ".py",
   "mimetype": "text/x-python",
   "name": "python",
   "nbconvert_exporter": "python",
   "pygments_lexer": "ipython3",
   "version": "3.7.3"
  }
 },
 "nbformat": 4,
 "nbformat_minor": 2
}
